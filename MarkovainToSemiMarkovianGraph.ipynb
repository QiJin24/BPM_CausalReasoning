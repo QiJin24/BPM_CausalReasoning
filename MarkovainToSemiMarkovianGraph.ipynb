{
  "nbformat": 4,
  "nbformat_minor": 0,
  "metadata": {
    "colab": {
      "provenance": [],
      "include_colab_link": true
    },
    "kernelspec": {
      "name": "python3",
      "display_name": "Python 3"
    },
    "language_info": {
      "name": "python"
    }
  },
  "cells": [
    {
      "cell_type": "markdown",
      "metadata": {
        "id": "view-in-github",
        "colab_type": "text"
      },
      "source": [
        "<a href=\"https://colab.research.google.com/github/QiJin24/BPM_CausalReasoning/blob/main/MarkovainToSemiMarkovianGraph.ipynb\" target=\"_parent\"><img src=\"https://colab.research.google.com/assets/colab-badge.svg\" alt=\"Open In Colab\"/></a>"
      ]
    },
    {
      "cell_type": "code",
      "source": [
        "pip install networkx==3.1"
      ],
      "metadata": {
        "colab": {
          "base_uri": "https://localhost:8080/"
        },
        "id": "YMEjr3LiVCH1",
        "outputId": "09bb987a-16ac-42cc-80f0-f95dd1911ccf"
      },
      "execution_count": 1,
      "outputs": [
        {
          "output_type": "stream",
          "name": "stdout",
          "text": [
            "Requirement already satisfied: networkx==3.1 in /usr/local/lib/python3.10/dist-packages (3.1)\n"
          ]
        }
      ]
    },
    {
      "cell_type": "code",
      "source": [
        "import networkx as nx"
      ],
      "metadata": {
        "id": "K1aAw5i8sPli"
      },
      "execution_count": 2,
      "outputs": []
    },
    {
      "cell_type": "code",
      "source": [
        "# A Markovian Graph 'G' as an input (with nodes being colored 'blue' if observed and 'grey' if unobserved)\n",
        "\n",
        "# Casual graph: Fig. 1 -> C\n",
        "\n",
        "# Let's assume V4 to be a grey variable such that V1 -> V4 -> D (we no longer have V1 -> D)\n",
        "\n",
        "G = nx.DiGraph()\n",
        "G.add_nodes_from([\n",
        "    ('V3', {\"color\": \"grey\"}),\n",
        "    ('V2', {\"color\": \"blue\"}),\n",
        "    ('V1', {\"color\": \"blue\"}),\n",
        "    ('D', {\"color\": \"blue\"}),\n",
        "    ('V4', {\"color\": \"grey\"}),\n",
        "    # ('V5', {\"color\": \"blue\"}),\n",
        "])\n",
        "G.add_edge('V3', 'V2')\n",
        "G.add_edge('V3', 'V1')\n",
        "G.add_edge('V2', 'V1')\n",
        "G.add_edge('V2', 'D')\n",
        "# G.add_edge('V1', 'D')\n",
        "\n",
        "G.add_edge('V1', 'V4')\n",
        "G.add_edge('V4', 'D')\n",
        "# G.add_edge('V3', 'V5')"
      ],
      "metadata": {
        "id": "xiYU4XN6VUqD"
      },
      "execution_count": 4,
      "outputs": []
    },
    {
      "cell_type": "code",
      "source": [
        "# Another random example to test\n",
        "\n",
        "G = nx.DiGraph()\n",
        "G.add_nodes_from([\n",
        "    ('A', {\"color\": \"grey\"}),\n",
        "    ('B', {\"color\": \"grey\"}),\n",
        "    ('C', {\"color\": \"blue\"}),\n",
        "    ('D', {\"color\": \"blue\"}),\n",
        "    ('E', {\"color\": \"blue\"}),\n",
        "    # ('V5', {\"color\": \"blue\"}),\n",
        "])\n",
        "G.add_edge('A', 'B')\n",
        "# G.add_edge('B', 'C')\n",
        "G.add_edge('B', 'D')\n",
        "G.add_edge('B', 'E')\n",
        "G.add_edge('C', 'E')\n",
        "G.add_edge('A', 'C')"
      ],
      "metadata": {
        "id": "u5eclK2BsHQW"
      },
      "execution_count": 3,
      "outputs": []
    },
    {
      "cell_type": "code",
      "source": [
        "G.nodes()"
      ],
      "metadata": {
        "colab": {
          "base_uri": "https://localhost:8080/"
        },
        "id": "ZQx61mnqW1Tr",
        "outputId": "021b85ad-6dec-4901-aea1-c0ed4f87bfbe"
      },
      "execution_count": 4,
      "outputs": [
        {
          "output_type": "execute_result",
          "data": {
            "text/plain": [
              "NodeView(('A', 'B', 'C', 'D', 'E'))"
            ]
          },
          "metadata": {},
          "execution_count": 4
        }
      ]
    },
    {
      "cell_type": "code",
      "source": [
        "G.edges()"
      ],
      "metadata": {
        "colab": {
          "base_uri": "https://localhost:8080/"
        },
        "id": "XHO0wijvXMbV",
        "outputId": "5776937c-78e1-4da5-ce77-e3e85a008a29"
      },
      "execution_count": 5,
      "outputs": [
        {
          "output_type": "execute_result",
          "data": {
            "text/plain": [
              "OutEdgeView([('A', 'B'), ('A', 'C'), ('B', 'D'), ('B', 'E'), ('C', 'E')])"
            ]
          },
          "metadata": {},
          "execution_count": 5
        }
      ]
    },
    {
      "cell_type": "code",
      "source": [
        "nx.draw(G, with_labels=True, font_weight='bold', node_size=500)"
      ],
      "metadata": {
        "colab": {
          "base_uri": "https://localhost:8080/",
          "height": 516
        },
        "id": "3U1Et98Tsxga",
        "outputId": "4005dc25-7a14-4fc6-e042-ec5ccb5dd634"
      },
      "execution_count": 6,
      "outputs": [
        {
          "output_type": "display_data",
          "data": {
            "text/plain": [
              "<Figure size 640x480 with 1 Axes>"
            ],
            "image/png": "[encoded data removed]"
          },
          "metadata": {}
        }
      ]
    },
    {
      "cell_type": "code",
      "source": [
        "# Rule 1\n",
        "# Adding all observed nodes to the new graph\n",
        "\n",
        "G_sm = nx.DiGraph()\n",
        "for node in G.nodes(data=True):\n",
        "  # print(node)\n",
        "  if node[1]['color'] == 'blue':\n",
        "    G_sm.add_node(node[0])\n",
        "\n",
        "G_sm.nodes()"
      ],
      "metadata": {
        "colab": {
          "base_uri": "https://localhost:8080/"
        },
        "id": "o-ESKHosYDCj",
        "outputId": "57fb2f84-f587-4c13-dae7-8a54ea7e841d"
      },
      "execution_count": 7,
      "outputs": [
        {
          "output_type": "execute_result",
          "data": {
            "text/plain": [
              "NodeView(('C', 'D', 'E'))"
            ]
          },
          "metadata": {},
          "execution_count": 7
        }
      ]
    },
    {
      "cell_type": "code",
      "source": [
        "# Rule 2\n",
        "# Importing edges between two blue nodes\n",
        "for edge in G.edges(data=True):\n",
        "  from_node = edge[0]\n",
        "  to_node = edge[1]\n",
        "  from_node_color = G.nodes[from_node]['color']\n",
        "  to_node_color = G.nodes[to_node]['color']\n",
        "  if from_node_color =='blue' and to_node_color =='blue':\n",
        "    G_sm.add_edge(edge[0], edge[1])"
      ],
      "metadata": {
        "id": "tbE1i1wqanFg"
      },
      "execution_count": 8,
      "outputs": []
    },
    {
      "cell_type": "code",
      "source": [
        "G_sm.edges()"
      ],
      "metadata": {
        "colab": {
          "base_uri": "https://localhost:8080/"
        },
        "id": "QwJ0zyLwflOw",
        "outputId": "dd5f8600-8d62-4657-f958-d8b3ea28653a"
      },
      "execution_count": 9,
      "outputs": [
        {
          "output_type": "execute_result",
          "data": {
            "text/plain": [
              "OutEdgeView([('C', 'E')])"
            ]
          },
          "metadata": {},
          "execution_count": 9
        }
      ]
    },
    {
      "cell_type": "code",
      "source": [
        "# Rule 3\n",
        "# Adding edges for directed paths through grey nodes between two blue nodes\n",
        "\n",
        "\n",
        "grey_nodes = [n for n,v in G.nodes(data=True) if v['color'] == 'grey']\n",
        "blue_nodes = [n for n,v in G.nodes(data=True) if v['color'] == 'blue']\n",
        "\n",
        "for source in blue_nodes:\n",
        "  for sink in blue_nodes:\n",
        "    if source == sink or G.has_edge(source, sink):\n",
        "      continue\n",
        "    for path in nx.all_simple_paths(G, source=source, target=sink):\n",
        "      counter = 0\n",
        "      for between_node in path:\n",
        "        if between_node in blue_nodes:\n",
        "          counter += 1\n",
        "      if counter == 2:\n",
        "        G_sm.add_edge(source, sink)\n",
        "        break"
      ],
      "metadata": {
        "id": "Pdgs3SM5f13o"
      },
      "execution_count": 10,
      "outputs": []
    },
    {
      "cell_type": "code",
      "source": [
        "nx.draw(G_sm, with_labels=True, font_weight='bold', node_color='lightblue', node_size=500)"
      ],
      "metadata": {
        "colab": {
          "base_uri": "https://localhost:8080/",
          "height": 516
        },
        "id": "9iVFZfWGQhPP",
        "outputId": "99e6cc3f-36d3-4744-a1df-7b242800adc8"
      },
      "execution_count": 11,
      "outputs": [
        {
          "output_type": "display_data",
          "data": {
            "text/plain": [
              "<Figure size 640x480 with 1 Axes>"
            ],
            "image/png": "[encoded data removed]"
          },
          "metadata": {}
        }
      ]
    },
    {
      "cell_type": "code",
      "source": [
        "# Rule 4\n",
        "# Extracting the hidden confounders\n",
        "confounding_list = []\n",
        "\n",
        "for source in grey_nodes:\n",
        "  potential_confounding = []\n",
        "  for sink in blue_nodes:\n",
        "    for path in nx.all_simple_paths(G, source=source, target=sink):\n",
        "      red_flag = 0\n",
        "      for between_node in path:\n",
        "        if between_node in blue_nodes and between_node != sink:\n",
        "          red_flag = 1\n",
        "          break\n",
        "      if red_flag == 0:\n",
        "        potential_confounding.append(sink)\n",
        "        break\n",
        "  if len(potential_confounding) > 1:\n",
        "    confounding_list.append(potential_confounding)\n",
        "\n",
        "print(confounding_list)"
      ],
      "metadata": {
        "colab": {
          "base_uri": "https://localhost:8080/"
        },
        "id": "x00JStKSVB3n",
        "outputId": "d41d4d01-24a8-4d11-c354-c10360f6a2cd"
      },
      "execution_count": 12,
      "outputs": [
        {
          "output_type": "stream",
          "name": "stdout",
          "text": [
            "[['C', 'D', 'E'], ['D', 'E']]\n"
          ]
        }
      ]
    },
    {
      "cell_type": "code",
      "source": [
        "# Let's clean the output\n",
        "\n",
        "# we construct a graph\n",
        "G_confounded = nx.Graph()\n",
        "for item in confounding_list:\n",
        "  for i in range(len(item)):\n",
        "      for j in range(i + 1 , len(item)):\n",
        "        G_confounded.add_edge(item[i], item[j])\n",
        "\n",
        "nx.draw(G_confounded, with_labels=True, font_weight='bold', node_size=500)"
      ],
      "metadata": {
        "colab": {
          "base_uri": "https://localhost:8080/",
          "height": 516
        },
        "id": "m0bWRaD8uJwj",
        "outputId": "31d18924-34c4-4638-b7db-6c870567f156"
      },
      "execution_count": 13,
      "outputs": [
        {
          "output_type": "display_data",
          "data": {
            "text/plain": [
              "<Figure size 640x480 with 1 Axes>"
            ],
            "image/png": "[encoded data removed]"
          },
          "metadata": {}
        }
      ]
    },
    {
      "cell_type": "code",
      "source": [
        "list(G_confounded.edges())"
      ],
      "metadata": {
        "colab": {
          "base_uri": "https://localhost:8080/"
        },
        "id": "pjNb52LexK-8",
        "outputId": "b22cf218-338b-4c78-9657-30f7b1fd9682"
      },
      "execution_count": 14,
      "outputs": [
        {
          "output_type": "execute_result",
          "data": {
            "text/plain": [
              "[('C', 'D'), ('C', 'E'), ('D', 'E')]"
            ]
          },
          "metadata": {},
          "execution_count": 14
        }
      ]
    },
    {
      "cell_type": "code",
      "source": [
        "# Let's set up a function\n",
        "\n",
        "# INPUT: A Markovian graph (with nodes being colored 'blue' if observed and 'grey' if unobserved\n",
        "# OUTPUT: A Graph containing only solid arcs and a set of tuples(V_i, V_j) that are connected with dashed arcs\n",
        "\n",
        "def markov_to_semimarkov(G):\n",
        "\n",
        "  G_sm = nx.DiGraph()\n",
        "\n",
        "  # Rule 1 ------- Adding all observed nodes to the new graph\n",
        "  for node in G.nodes(data=True):\n",
        "    if node[1]['color'] == 'blue':\n",
        "      G_sm.add_node(node[0])\n",
        "\n",
        "  # Rule 2 ------- Importing edges between two blue nodes\n",
        "  for edge in G.edges(data=True):\n",
        "    from_node = edge[0]\n",
        "    to_node = edge[1]\n",
        "    from_node_color = G.nodes[from_node]['color']\n",
        "    to_node_color = G.nodes[to_node]['color']\n",
        "    if from_node_color =='blue' and to_node_color =='blue':\n",
        "      G_sm.add_edge(edge[0], edge[1])\n",
        "\n",
        "  # Rule 3 ------- Adding edges for directed paths through grey nodes between two blue nodes\n",
        "  grey_nodes = [n for n,v in G.nodes(data=True) if v['color'] == 'grey']\n",
        "  blue_nodes = [n for n,v in G.nodes(data=True) if v['color'] == 'blue']\n",
        "\n",
        "  for source in blue_nodes:\n",
        "    for sink in blue_nodes:\n",
        "      if source == sink or G.has_edge(source, sink):\n",
        "        continue\n",
        "      for path in nx.all_simple_paths(G, source=source, target=sink):\n",
        "        counter = 0\n",
        "        for between_node in path:\n",
        "          if between_node in blue_nodes:\n",
        "            counter += 1\n",
        "        if counter == 2:\n",
        "          G_sm.add_edge(source, sink)\n",
        "          break\n",
        "\n",
        "  # Rule 4 ------- Extracting the hidden confounders\n",
        "  confounding_list = []\n",
        "\n",
        "  for source in grey_nodes:\n",
        "    potential_confounding = []\n",
        "    for sink in blue_nodes:\n",
        "      for path in nx.all_simple_paths(G, source=source, target=sink):\n",
        "        red_flag = 0\n",
        "        for between_node in path:\n",
        "          if between_node in blue_nodes and between_node != sink:\n",
        "            red_flag = 1\n",
        "            break\n",
        "        if red_flag == 0:\n",
        "          potential_confounding.append(sink)\n",
        "          break\n",
        "    if len(potential_confounding) > 1:\n",
        "      confounding_list.append(potential_confounding)\n",
        "\n",
        "  # we construct a graph for confounding arcs\n",
        "  G_confounded = nx.Graph()\n",
        "  for item in confounding_list:\n",
        "    for i in range(len(item)):\n",
        "        for j in range(i + 1 , len(item)):\n",
        "          G_confounded.add_edge(item[i], item[j])\n",
        "  # nx.draw(G_confounded, with_labels=True, font_weight='bold', node_size=500)\n",
        "\n",
        "  return G_sm, list(G_confounded.edges())\n"
      ],
      "metadata": {
        "id": "i0Xa9WyixUQJ"
      },
      "execution_count": 15,
      "outputs": []
    },
    {
      "cell_type": "code",
      "source": [
        "# Let's test the function\n",
        "\n",
        "final_graph, confounded_vars = markov_to_semimarkov(G)\n",
        "nx.draw(final_graph, with_labels=True, font_weight='bold', node_size=500)\n",
        "print(confounded_vars)"
      ],
      "metadata": {
        "colab": {
          "base_uri": "https://localhost:8080/",
          "height": 533
        },
        "id": "R0YrkeEazvb6",
        "outputId": "8a4c523b-79ac-4001-8914-5077541b4ce1"
      },
      "execution_count": 16,
      "outputs": [
        {
          "output_type": "stream",
          "name": "stdout",
          "text": [
            "[('C', 'D'), ('C', 'E'), ('D', 'E')]\n"
          ]
        },
        {
          "output_type": "display_data",
          "data": {
            "text/plain": [
              "<Figure size 640x480 with 1 Axes>"
            ],
            "image/png": "[encoded data removed]"
          },
          "metadata": {}
        }
      ]
    }
  ]
}